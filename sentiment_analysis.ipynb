{
 "cells": [
  {
   "cell_type": "markdown",
   "metadata": {
    "pycharm": {
     "name": "#%% md\n"
    }
   },
   "source": [
    "# Sentimentanalyse von Plenarprotokollen mit Python"
   ]
  },
  {
   "cell_type": "markdown",
   "source": [
    "Dieses Dokument dient zum Erkunden der Datensätze, die mithilfe der in diesem Ordner verfügbaren Skriptdateien ``process_pp.py`` und ``dictionary_analysis.py`` erstellt wurden. Der größte Teil der Rechenarbeit wurde also mithilfe dieser Skripte bereits durchgeführt. Das Laden des aufbereiteten Datensatzes kann trotzdem einige Minuten dauern."
   ],
   "metadata": {
    "collapsed": false
   }
  },
  {
   "cell_type": "markdown",
   "source": [
    "Zunächst sollen alle im Folgenden benötigte Python-Pakete geladen werden. Mit dem Code in der nächsten Zelle kann überprüft werden, ob diese Pakete installiert sind. Zusätzlich soll ein deutsches Sprachmodell ``de_core_news_sm`` für spaCy heruntergeladen werden."
   ],
   "metadata": {
    "collapsed": false
   }
  },
  {
   "cell_type": "code",
   "execution_count": null,
   "outputs": [],
   "source": [
    "!pip install spacy pandas\n",
    "!python -m spacy download de_core_news_sm"
   ],
   "metadata": {
    "collapsed": false,
    "pycharm": {
     "name": "#%%\n"
    }
   }
  },
  {
   "cell_type": "markdown",
   "source": [
    "Als nächstes werden die installierten Pakete für das aktuelle Skript importiert und das Sprachmodell verfügbar gemacht."
   ],
   "metadata": {
    "collapsed": false
   }
  },
  {
   "cell_type": "code",
   "execution_count": null,
   "outputs": [],
   "source": [
    "import spacy\n",
    "from spacy.tokens import DocBin\n",
    "nlp = spacy.load(\"de_core_news_sm\")\n",
    "import pandas as pd\n",
    "from glob import glob"
   ],
   "metadata": {
    "collapsed": false,
    "pycharm": {
     "name": "#%%\n"
    }
   }
  },
  {
   "cell_type": "markdown",
   "source": [
    "Anschließend werden die für die Analyse nötigen Daten eingelesen. Dieser Prozess kann einige Zeit in Anspruch nehmen."
   ],
   "metadata": {
    "collapsed": false
   }
  },
  {
   "cell_type": "code",
   "execution_count": null,
   "outputs": [],
   "source": [
    "dateien = glob(\"plenarprotokolle/testing_prep/*.xml.spacy.sentiment\")\n",
    "spacy_db = {}\n",
    "for protokoll in dateien:\n",
    "    protokoll_daten = DocBin(store_user_data=True).from_bytes(open(protokoll, \"rb\").read())\n",
    "    protokoll_daten = list(protokoll_daten.get_docs(nlp.vocab))\n",
    "    spacy_db[protokoll] = protokoll_daten"
   ],
   "metadata": {
    "collapsed": false,
    "pycharm": {
     "name": "#%%\n"
    }
   }
  },
  {
   "cell_type": "markdown",
   "source": [
    "Nun sind alle für die Analyse nötigen Ressourcen verfügbar. Zum Einen kann jetzt natürlich mit diesen experimentiert werden, zum Anderen bietet der Rest dieses Dokuments eine Führung durch beispielhafte Analysevorgänge. Zum Beispiel können grundlegende Statistiken zum Datensatz zusammengestellt werden:"
   ],
   "metadata": {
    "collapsed": false
   }
  },
  {
   "cell_type": "code",
   "execution_count": null,
   "outputs": [],
   "source": [
    "print(\"Der Datensatz enthält\", len(spacy_db), \"Protokolle.\")\n",
    "\n",
    "anzahl_reden = 0\n",
    "for datei, protokoll in spacy_db.items():\n",
    "    for rede in protokoll:\n",
    "        anzahl_reden += 1\n",
    "print(\"Diese Protokolle enthalten insgesamt\", anzahl_reden, \"Reden.\")\n",
    "\n",
    "anzahl_token = 0\n",
    "for datei, protokoll in spacy_db.items():\n",
    "    for rede in protokoll:\n",
    "        anzahl_token += len(rede)\n",
    "print(\"Diese Reden enthalten insgesamt\", anzahl_token, \"Token.\")"
   ],
   "metadata": {
    "collapsed": false,
    "pycharm": {
     "name": "#%%\n"
    }
   }
  },
  {
   "cell_type": "code",
   "execution_count": null,
   "outputs": [],
   "source": [
    "redner_parteien = {}\n",
    "for datei, protokoll in spacy_db.items():\n",
    "    for rede in protokoll:\n",
    "        partei = rede.user_data[\"meta\"][\"redner_partei\"]\n",
    "        if not partei in redner_parteien.keys():\n",
    "            redner_parteien[partei] = [rede.user_data[\"meta\"][\"redner_name\"]]\n",
    "        else:\n",
    "            redner_parteien[partei].append(rede.user_data[\"meta\"][\"redner_name\"])\n",
    "\n",
    "for partei, namen in redner_parteien.items():\n",
    "    print(partei, \":\", len(namen))"
   ],
   "metadata": {
    "collapsed": false,
    "pycharm": {
     "name": "#%%\n"
    }
   }
  },
  {
   "cell_type": "markdown",
   "metadata": {},
   "source": []
  },
  {
   "cell_type": "markdown",
   "metadata": {},
   "source": [
    "Zunächst sollen alle im Folgenden benötigte Python-Pakete geladen werden. Mit dem Code in der nächsten Zelle kann überprüft werden, ob diese Pakete installiert sind. Zusätzlich soll ein deutsches Sprachmodell ``de_core_news_sm`` für spaCy heruntergeladen werden."
   ]
  },
  {
   "cell_type": "code",
   "execution_count": 66,
   "metadata": {},
   "outputs": [
    {
     "name": "stdout",
     "output_type": "stream",
     "text": [
      "Requirement already satisfied: spacy in /home/lukas/opt/anaconda3/lib/python3.7/site-packages (2.2.4)\n",
      "Requirement already satisfied: pandas in /home/lukas/opt/anaconda3/lib/python3.7/site-packages (0.24.2)\n",
      "Requirement already satisfied: catalogue<1.1.0,>=0.0.7 in /home/lukas/opt/anaconda3/lib/python3.7/site-packages (from spacy) (1.0.0)\n",
      "Requirement already satisfied: setuptools in /home/lukas/opt/anaconda3/lib/python3.7/site-packages (from spacy) (40.8.0)\n",
      "Requirement already satisfied: plac<1.2.0,>=0.9.6 in /home/lukas/opt/anaconda3/lib/python3.7/site-packages (from spacy) (1.1.3)\n",
      "Requirement already satisfied: blis<0.5.0,>=0.4.0 in /home/lukas/opt/anaconda3/lib/python3.7/site-packages (from spacy) (0.4.1)\n",
      "Requirement already satisfied: numpy>=1.15.0 in /home/lukas/opt/anaconda3/lib/python3.7/site-packages (from spacy) (1.16.2)\n",
      "Requirement already satisfied: murmurhash<1.1.0,>=0.28.0 in /home/lukas/opt/anaconda3/lib/python3.7/site-packages (from spacy) (1.0.2)\n",
      "Requirement already satisfied: tqdm<5.0.0,>=4.38.0 in /home/lukas/opt/anaconda3/lib/python3.7/site-packages (from spacy) (4.44.1)\n",
      "Requirement already satisfied: preshed<3.1.0,>=3.0.2 in /home/lukas/opt/anaconda3/lib/python3.7/site-packages (from spacy) (3.0.2)\n",
      "Requirement already satisfied: wasabi<1.1.0,>=0.4.0 in /home/lukas/opt/anaconda3/lib/python3.7/site-packages (from spacy) (0.6.0)\n",
      "Requirement already satisfied: thinc==7.4.0 in /home/lukas/opt/anaconda3/lib/python3.7/site-packages (from spacy) (7.4.0)\n",
      "Requirement already satisfied: cymem<2.1.0,>=2.0.2 in /home/lukas/opt/anaconda3/lib/python3.7/site-packages (from spacy) (2.0.3)\n",
      "Requirement already satisfied: requests<3.0.0,>=2.13.0 in /home/lukas/opt/anaconda3/lib/python3.7/site-packages (from spacy) (2.21.0)\n",
      "Requirement already satisfied: srsly<1.1.0,>=1.0.2 in /home/lukas/opt/anaconda3/lib/python3.7/site-packages (from spacy) (1.0.2)\n",
      "Requirement already satisfied: pytz>=2011k in /home/lukas/opt/anaconda3/lib/python3.7/site-packages (from pandas) (2018.9)\n",
      "Requirement already satisfied: python-dateutil>=2.5.0 in /home/lukas/opt/anaconda3/lib/python3.7/site-packages (from pandas) (2.8.0)\n",
      "Requirement already satisfied: importlib-metadata>=0.20; python_version < \"3.8\" in /home/lukas/opt/anaconda3/lib/python3.7/site-packages (from catalogue<1.1.0,>=0.0.7->spacy) (1.6.0)\n",
      "Requirement already satisfied: urllib3<1.25,>=1.21.1 in /home/lukas/opt/anaconda3/lib/python3.7/site-packages (from requests<3.0.0,>=2.13.0->spacy) (1.24.1)\n",
      "Requirement already satisfied: certifi>=2017.4.17 in /home/lukas/opt/anaconda3/lib/python3.7/site-packages (from requests<3.0.0,>=2.13.0->spacy) (2019.3.9)\n",
      "Requirement already satisfied: chardet<3.1.0,>=3.0.2 in /home/lukas/opt/anaconda3/lib/python3.7/site-packages (from requests<3.0.0,>=2.13.0->spacy) (3.0.4)\n",
      "Requirement already satisfied: idna<2.9,>=2.5 in /home/lukas/opt/anaconda3/lib/python3.7/site-packages (from requests<3.0.0,>=2.13.0->spacy) (2.8)\n",
      "Requirement already satisfied: six>=1.5 in /home/lukas/opt/anaconda3/lib/python3.7/site-packages (from python-dateutil>=2.5.0->pandas) (1.12.0)\n",
      "Requirement already satisfied: zipp>=0.5 in /home/lukas/opt/anaconda3/lib/python3.7/site-packages (from importlib-metadata>=0.20; python_version < \"3.8\"->catalogue<1.1.0,>=0.0.7->spacy) (3.1.0)\n",
      "Requirement already satisfied: de_core_news_sm==2.2.5 from https://github.com/explosion/spacy-models/releases/download/de_core_news_sm-2.2.5/de_core_news_sm-2.2.5.tar.gz#egg=de_core_news_sm==2.2.5 in /home/lukas/opt/anaconda3/lib/python3.7/site-packages (2.2.5)\n",
      "Requirement already satisfied: spacy>=2.2.2 in /home/lukas/opt/anaconda3/lib/python3.7/site-packages (from de_core_news_sm==2.2.5) (2.2.4)\n",
      "Requirement already satisfied: preshed<3.1.0,>=3.0.2 in /home/lukas/opt/anaconda3/lib/python3.7/site-packages (from spacy>=2.2.2->de_core_news_sm==2.2.5) (3.0.2)\n",
      "Requirement already satisfied: blis<0.5.0,>=0.4.0 in /home/lukas/opt/anaconda3/lib/python3.7/site-packages (from spacy>=2.2.2->de_core_news_sm==2.2.5) (0.4.1)\n",
      "Requirement already satisfied: thinc==7.4.0 in /home/lukas/opt/anaconda3/lib/python3.7/site-packages (from spacy>=2.2.2->de_core_news_sm==2.2.5) (7.4.0)\n",
      "Requirement already satisfied: wasabi<1.1.0,>=0.4.0 in /home/lukas/opt/anaconda3/lib/python3.7/site-packages (from spacy>=2.2.2->de_core_news_sm==2.2.5) (0.6.0)\n",
      "Requirement already satisfied: setuptools in /home/lukas/opt/anaconda3/lib/python3.7/site-packages (from spacy>=2.2.2->de_core_news_sm==2.2.5) (40.8.0)\n",
      "Requirement already satisfied: requests<3.0.0,>=2.13.0 in /home/lukas/opt/anaconda3/lib/python3.7/site-packages (from spacy>=2.2.2->de_core_news_sm==2.2.5) (2.21.0)\n",
      "Requirement already satisfied: cymem<2.1.0,>=2.0.2 in /home/lukas/opt/anaconda3/lib/python3.7/site-packages (from spacy>=2.2.2->de_core_news_sm==2.2.5) (2.0.3)\n",
      "Requirement already satisfied: numpy>=1.15.0 in /home/lukas/opt/anaconda3/lib/python3.7/site-packages (from spacy>=2.2.2->de_core_news_sm==2.2.5) (1.16.2)\n",
      "Requirement already satisfied: plac<1.2.0,>=0.9.6 in /home/lukas/opt/anaconda3/lib/python3.7/site-packages (from spacy>=2.2.2->de_core_news_sm==2.2.5) (1.1.3)\n",
      "Requirement already satisfied: tqdm<5.0.0,>=4.38.0 in /home/lukas/opt/anaconda3/lib/python3.7/site-packages (from spacy>=2.2.2->de_core_news_sm==2.2.5) (4.44.1)\n",
      "Requirement already satisfied: murmurhash<1.1.0,>=0.28.0 in /home/lukas/opt/anaconda3/lib/python3.7/site-packages (from spacy>=2.2.2->de_core_news_sm==2.2.5) (1.0.2)\n",
      "Requirement already satisfied: srsly<1.1.0,>=1.0.2 in /home/lukas/opt/anaconda3/lib/python3.7/site-packages (from spacy>=2.2.2->de_core_news_sm==2.2.5) (1.0.2)\n",
      "Requirement already satisfied: catalogue<1.1.0,>=0.0.7 in /home/lukas/opt/anaconda3/lib/python3.7/site-packages (from spacy>=2.2.2->de_core_news_sm==2.2.5) (1.0.0)\n",
      "Requirement already satisfied: idna<2.9,>=2.5 in /home/lukas/opt/anaconda3/lib/python3.7/site-packages (from requests<3.0.0,>=2.13.0->spacy>=2.2.2->de_core_news_sm==2.2.5) (2.8)\n",
      "Requirement already satisfied: urllib3<1.25,>=1.21.1 in /home/lukas/opt/anaconda3/lib/python3.7/site-packages (from requests<3.0.0,>=2.13.0->spacy>=2.2.2->de_core_news_sm==2.2.5) (1.24.1)\n",
      "Requirement already satisfied: chardet<3.1.0,>=3.0.2 in /home/lukas/opt/anaconda3/lib/python3.7/site-packages (from requests<3.0.0,>=2.13.0->spacy>=2.2.2->de_core_news_sm==2.2.5) (3.0.4)\n",
      "Requirement already satisfied: certifi>=2017.4.17 in /home/lukas/opt/anaconda3/lib/python3.7/site-packages (from requests<3.0.0,>=2.13.0->spacy>=2.2.2->de_core_news_sm==2.2.5) (2019.3.9)\n",
      "Requirement already satisfied: importlib-metadata>=0.20; python_version < \"3.8\" in /home/lukas/opt/anaconda3/lib/python3.7/site-packages (from catalogue<1.1.0,>=0.0.7->spacy>=2.2.2->de_core_news_sm==2.2.5) (1.6.0)\n",
      "Requirement already satisfied: zipp>=0.5 in /home/lukas/opt/anaconda3/lib/python3.7/site-packages (from importlib-metadata>=0.20; python_version < \"3.8\"->catalogue<1.1.0,>=0.0.7->spacy>=2.2.2->de_core_news_sm==2.2.5) (3.1.0)\n",
      "\u001b[38;5;2m✔ Download and installation successful\u001b[0m\n",
      "You can now load the model via spacy.load('de_core_news_sm')\n"
     ]
    }
   ],
   "source": [
    "!pip install spacy pandas\n",
    "!python -m spacy download de_core_news_sm"
   ]
  },
  {
   "cell_type": "markdown",
   "metadata": {},
   "source": [
    "Als nächstes werden die installierten Pakete für das aktuelle Skript importiert und das Sprachmodell verfügbar gemacht."
   ]
  },
  {
   "cell_type": "code",
   "execution_count": 67,
   "metadata": {},
   "outputs": [],
   "source": [
    "import spacy\n",
    "from spacy.tokens import DocBin\n",
    "nlp = spacy.load(\"de_core_news_sm\")\n",
    "import pandas as pd\n",
    "from glob import glob"
   ]
  },
  {
   "cell_type": "markdown",
   "metadata": {},
   "source": [
    "Anschließend werden die für die Analyse nötigen Daten eingelesen. Dieser Prozess kann einige Zeit in Anspruch nehmen."
   ]
  },
  {
   "cell_type": "code",
   "execution_count": 74,
   "metadata": {
    "collapsed": false,
    "pycharm": {
     "name": "#%%\n"
    }
   },
   "outputs": [],
   "source": [
    "dateien = glob(\"plenarprotokolle/testing_prep/*.xml.spacy.sentiment\")\n",
    "spacy_db = {}\n",
    "for protokoll in dateien:\n",
    "    protokoll_daten = DocBin(store_user_data=True).from_bytes(open(protokoll, \"rb\").read())\n",
    "    protokoll_daten = list(protokoll_daten.get_docs(nlp.vocab))\n",
    "    spacy_db[protokoll] = protokoll_daten"
   ]
  },
  {
   "cell_type": "markdown",
   "metadata": {},
   "source": [
    "Nun sind alle für die Analyse nötigen Ressourcen verfügbar. Zum Einen kann jetzt natürlich mit diesen experimentiert werden, zum Anderen bietet der Rest dieses Dokuments eine Führung durch beispielhafte Analysevorgänge. Zum Beispiel können grundlegende Statistiken zum Datensatz zusammengestellt werden:"
   ]
  },
  {
   "cell_type": "code",
   "execution_count": 79,
   "metadata": {},
   "outputs": [
    {
     "name": "stdout",
     "output_type": "stream",
     "text": [
      "Der Datensatz enthält 10 Protokolle.\n",
      "Diese Protokolle enthalten insgesamt 659 Reden.\n",
      "Diese Reden enthalten insgesamt 428125 Token.\n"
     ]
    }
   ],
   "source": [
    "print(\"Der Datensatz enthält\", len(spacy_db), \"Protokolle.\")\n",
    "\n",
    "anzahl_reden = 0\n",
    "for datei, protokoll in spacy_db.items():\n",
    "    for rede in protokoll:\n",
    "        anzahl_reden += 1\n",
    "print(\"Diese Protokolle enthalten insgesamt\", anzahl_reden, \"Reden.\")\n",
    "\n",
    "anzahl_token = 0\n",
    "for datei, protokoll in spacy_db.items():\n",
    "    for rede in protokoll:\n",
    "        anzahl_token += len(rede)\n",
    "print(\"Diese Reden enthalten insgesamt\", anzahl_token, \"Token.\")"
   ]
  },
  {
   "cell_type": "code",
   "execution_count": 86,
   "metadata": {},
   "outputs": [
    {
     "name": "stdout",
     "output_type": "stream",
     "text": [
      "FDP : 81\n",
      "SPD : 148\n",
      "AfD : 84\n",
      "DIE LINKE. : 73\n",
      "CDU : 138\n",
      "BÜNDNIS 90/DIE GRÜNEN : 78\n",
      "CSU : 50\n",
      "Unbekannt : 2\n",
      "Plos : 5\n"
     ]
    }
   ],
   "source": [
    "redner_parteien = {}\n",
    "for datei, protokoll in spacy_db.items():\n",
    "    for rede in protokoll:\n",
    "        partei = rede.user_data[\"meta\"][\"redner_partei\"]\n",
    "        if not partei in redner_parteien.keys():\n",
    "            redner_parteien[partei] = [rede.user_data[\"meta\"][\"redner_name\"]]\n",
    "        else:\n",
    "            redner_parteien[partei].append(rede.user_data[\"meta\"][\"redner_name\"])\n",
    "\n",
    "for partei, namen in redner_parteien.items():\n",
    "    print(partei, \":\", len(namen))"
   ]
  },
  {
   "cell_type": "code",
   "execution_count": null,
   "metadata": {},
   "outputs": [],
   "source": []
  }
 ],
 "metadata": {
  "kernelspec": {
   "display_name": "Python 3",
   "language": "python",
   "name": "python3"
  },
  "language_info": {
   "codemirror_mode": {
    "name": "ipython",
    "version": 3
   },
   "file_extension": ".py",
   "mimetype": "text/x-python",
   "name": "python",
   "nbconvert_exporter": "python",
   "pygments_lexer": "ipython3",
   "version": "3.7.3"
  },
  "pycharm": {
   "stem_cell": {
    "cell_type": "raw",
    "source": [],
    "metadata": {
     "collapsed": false
    }
   }
  }
 },
 "nbformat": 4,
 "nbformat_minor": 2
}