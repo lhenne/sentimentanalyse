{
 "cells": [
  {
   "cell_type": "code",
   "execution_count": 44,
   "outputs": [],
   "source": [
    "import pandas\n",
    "from pandas import read_csv\n",
    "import re"
   ],
   "metadata": {
    "collapsed": false,
    "pycharm": {
     "name": "#%%\n",
     "is_executing": false
    }
   }
  },
  {
   "cell_type": "code",
   "execution_count": 2,
   "metadata": {
    "collapsed": true,
    "pycharm": {
     "is_executing": false
    }
   },
   "outputs": [],
   "source": [
    "import spacy\n",
    "from spacy.tokens import DocBin\n",
    "\n",
    "nlp = spacy.load(\"de_core_news_sm\")"
   ]
  },
  {
   "cell_type": "code",
   "execution_count": 3,
   "outputs": [],
   "source": [
    "from glob import glob\n",
    "daten = glob(\"plenarprotokolle/testing_prep/*.xml.spacy\")"
   ],
   "metadata": {
    "collapsed": false,
    "pycharm": {
     "name": "#%%\n",
     "is_executing": false
    }
   }
  },
  {
   "cell_type": "code",
   "execution_count": 4,
   "outputs": [],
   "source": [
    "spacy_db = {}\n",
    "for datei in daten:\n",
    "    protokoll = DocBin(store_user_data=True).from_bytes(open(datei, \"rb\").read())\n",
    "    protokoll = list(protokoll.get_docs(nlp.vocab))\n",
    "    datei = datei.lstrip(\"plenarprotokolle/testing_prep/\")\n",
    "    spacy_db[datei] = protokoll\n",
    "\n",
    "for f, protokoll in spacy_db.items():\n",
    "    for rede in protokoll:\n",
    "        rede.user_data[\"entitaeten\"] = [x.text for x in rede.ents]\n",
    "        rede.user_data[\"entitaeten\"] = [x for x in rede.user_data[\"entitaeten\"] if not x == \"||\"]          "
   ],
   "metadata": {
    "collapsed": false,
    "pycharm": {
     "name": "#%%\n",
     "is_executing": false
    }
   }
  },
  {
   "cell_type": "code",
   "execution_count": 88,
   "outputs": [],
   "source": [
    "def collect_classifiers_sentiws(sourcefile):\n",
    "    with open(sourcefile) as csv_file:\n",
    "        classifiers = read_csv(csv_file, sep=\"\\t\", header=None, names=[\"lemma\", \"wert\", \"formen\"])\n",
    "        classifiers[\"formen\"] = classifiers[\"formen\"].astype(str)\n",
    "        classifiers[\"formen\"] = classifiers[\"formen\"].apply(lambda x: x.split(\",\"))\n",
    "        classifiers[[\"lemma\",\"pos\"]] = classifiers[\"lemma\"].str.split(\"|\",expand=True)\n",
    "        classifiers[\"lemma\"] = classifiers[\"lemma\"].astype(str)\n",
    "        for formen, lemma in zip(classifiers.formen, classifiers.lemma):\n",
    "            formen = formen.append(lemma)\n",
    "        classifiers = classifiers.explode(\"formen\")\n",
    "    return classifiers"
   ],
   "metadata": {
    "collapsed": false,
    "pycharm": {
     "name": "#%%\n",
     "is_executing": false
    }
   }
  },
  {
   "cell_type": "code",
   "execution_count": 6,
   "outputs": [],
   "source": [
    "def collect_classifiers_gpc(sourcefile):\n",
    "    with open(sourcefile) as csv_file:\n",
    "        classifiers = read_csv(csv_file, sep=\"\\t\", header=None, names=[\"form\",\"lemma\",\"pos\",\"polaritaet\",\"probabilitaet\",\"whatever\"])\n",
    "        classifiers = classifiers.drop(labels=[\"probabilitaet\",\"whatever\"], axis=1)\n",
    "    return classifiers\n",
    "        "
   ],
   "metadata": {
    "collapsed": false,
    "pycharm": {
     "name": "#%%\n",
     "is_executing": false
    }
   }
  },
  {
   "cell_type": "code",
   "execution_count": 89,
   "outputs": [],
   "source": [
    "classifiers_neg_sentiws = collect_classifiers_sentiws(\"SentiWS/SentiWS_v2.0_Negative.txt\")\n",
    "classifiers_pos_sentiws = collect_classifiers_sentiws(\"SentiWS/SentiWS_v2.0_Positive.txt\")"
   ],
   "metadata": {
    "collapsed": false,
    "pycharm": {
     "name": "#%%\n",
     "is_executing": false
    }
   }
  },
  {
   "cell_type": "code",
   "execution_count": 8,
   "outputs": [],
   "source": [
    "classifiers_neg_gpc = collect_classifiers_gpc(\"gpc/GermanPolarityClues-Negative-21042012.tsv\")\n",
    "classifiers_pos_gpc = collect_classifiers_gpc(\"gpc/GermanPolarityClues-Positive-21042012.tsv\")\n"
   ],
   "metadata": {
    "collapsed": false,
    "pycharm": {
     "name": "#%%\n",
     "is_executing": false
    }
   }
  },
  {
   "cell_type": "code",
   "execution_count": 90,
   "outputs": [],
   "source": [
    "def sentiws_eval(text):\n",
    "    sentiment_tokens = {}\n",
    "    sentiment_score = 0\n",
    "    for token in text.doc:\n",
    "        if not token.is_stop == True:\n",
    "            token_row = classifiers_neg_sentiws[classifiers_neg_sentiws.formen == token.text]\n",
    "            if not token_row.empty:\n",
    "                sentiment_tokens[token.text] = token_row[\"wert\"].values[0]\n",
    "                sentiment_score += token_row[\"wert\"].values[0]\n",
    "            else:\n",
    "                token_row = classifiers_pos_sentiws[classifiers_pos_sentiws.formen == token.text]\n",
    "                if not token_row.empty:\n",
    "                    sentiment_tokens[token.text] = token_row[\"wert\"].values[0]\n",
    "                    sentiment_score += token_row[\"wert\"].values[0]\n",
    "    sentiment_tokens[\"sentiment_score\"] = sentiment_score      \n",
    "    return sentiment_tokens"
   ],
   "metadata": {
    "collapsed": false,
    "pycharm": {
     "name": "#%% \n",
     "is_executing": false
    }
   }
  },
  {
   "cell_type": "code",
   "execution_count": 94,
   "outputs": [],
   "source": [
    "def gpc_eval(text):\n",
    "    positive_token = []\n",
    "    negative_token = []\n",
    "    sentiment_tokens = {}\n",
    "    for token in text.doc:\n",
    "        if not token.is_stop == True:\n",
    "            token_row = classifiers_neg_gpc[classifiers_neg_gpc.form == token.text]\n",
    "            if not token_row.empty:\n",
    "                negative_token.append(token.text)\n",
    "            else:\n",
    "                token_row = classifiers_pos_gpc[classifiers_pos_gpc.form == token.text]\n",
    "                if not token_row.empty:\n",
    "                    positive_token.append(token.text)\n",
    "    sentiment_tokens[\"positiv\"] = positive_token\n",
    "    sentiment_tokens[\"negativ\"] = negative_token\n",
    "    return sentiment_tokens\n",
    "    "
   ],
   "metadata": {
    "collapsed": false,
    "pycharm": {
     "name": "#%%\n",
     "is_executing": false
    }
   }
  },
  {
   "cell_type": "code",
   "execution_count": 91,
   "outputs": [],
   "source": [
    "for f, protokoll in spacy_db.items():\n",
    "    for rede in protokoll:\n",
    "        rede.user_data[\"sentiws\"] = sentiws_eval(rede)"
   ],
   "metadata": {
    "collapsed": false,
    "pycharm": {
     "name": "#%%\n",
     "is_executing": false
    }
   }
  },
  {
   "cell_type": "code",
   "execution_count": 95,
   "outputs": [],
   "source": [
    "for f, protokoll in spacy_db.items():\n",
    "    for rede in protokoll:\n",
    "        rede.user_data[\"gpc\"] = gpc_eval(rede)"
   ],
   "metadata": {
    "collapsed": false,
    "pycharm": {
     "name": "#%%\n",
     "is_executing": false
    }
   }
  },
  {
   "cell_type": "code",
   "execution_count": 96,
   "outputs": [],
   "source": [
    "for f, d in spacy_db.items():\n",
    "    doc_bin = DocBin(attrs=[\"POS\", \"TAG\", \"LEMMA\", \"IS_STOP\", \"DEP\", \"SHAPE\", \"ENT_ID\", \"ENT_IOB\", \"ENT_KB_ID\", \"ENT_TYPE\"], store_user_data=True)\n",
    "    for doc in d:\n",
    "        doc_bin.add(doc)\n",
    "    spacy_out = doc_bin.to_bytes()\n",
    "    with open(file=(\"plenarprotokolle/testing_prep/\" + f + \".sentiment\"), mode=\"wb\") as spacy_outfile:\n",
    "        spacy_outfile.write(spacy_out)\n"
   ],
   "metadata": {
    "collapsed": false,
    "pycharm": {
     "name": "#%%\n",
     "is_executing": false
    }
   }
  },
  {
   "cell_type": "code",
   "execution_count": null,
   "outputs": [],
   "source": [
    "\n"
   ],
   "metadata": {
    "collapsed": false,
    "pycharm": {
     "name": "#%%\n"
    }
   }
  }
 ],
 "metadata": {
  "kernelspec": {
   "display_name": "Python 3",
   "language": "python",
   "name": "python3"
  },
  "language_info": {
   "codemirror_mode": {
    "name": "ipython",
    "version": 2
   },
   "file_extension": ".py",
   "mimetype": "text/x-python",
   "name": "python",
   "nbconvert_exporter": "python",
   "pygments_lexer": "ipython2",
   "version": "2.7.6"
  },
  "pycharm": {
   "stem_cell": {
    "cell_type": "raw",
    "source": [],
    "metadata": {
     "collapsed": false
    }
   }
  }
 },
 "nbformat": 4,
 "nbformat_minor": 0
}