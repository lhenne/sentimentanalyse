{
 "cells": [
  {
   "cell_type": "code",
   "execution_count": 73,
   "outputs": [],
   "source": [
    "from pandas import read_csv\n",
    "import re"
   ],
   "metadata": {
    "collapsed": false,
    "pycharm": {
     "name": "#%%\n",
     "is_executing": false
    }
   }
  },
  {
   "cell_type": "code",
   "execution_count": 2,
   "metadata": {
    "collapsed": true,
    "pycharm": {
     "is_executing": false
    }
   },
   "outputs": [],
   "source": [
    "import spacy\n",
    "from spacy.tokens import DocBin\n",
    "\n",
    "nlp = spacy.load(\"de_core_news_sm\")"
   ]
  },
  {
   "cell_type": "code",
   "execution_count": 74,
   "outputs": [],
   "source": [
    "from glob import glob\n",
    "daten = glob(\"plenarprotokolle/testing_prep/*.xml.spacy\")\n",
    "satzzeichen = re.compile(r'.*[^a-zA-Z0-9\\u0080-\\u00FF#].*')"
   ],
   "metadata": {
    "collapsed": false,
    "pycharm": {
     "name": "#%%\n",
     "is_executing": false
    }
   }
  },
  {
   "cell_type": "code",
   "execution_count": 4,
   "outputs": [],
   "source": [
    "spacy_db = {}\n",
    "for datei in daten:\n",
    "    protokoll = DocBin(store_user_data=True).from_bytes(open(datei, \"rb\").read())\n",
    "    protokoll = list(protokoll.get_docs(nlp.vocab))\n",
    "    datei = datei.lstrip(\"plenarprotokolle/testing_prep/\")\n",
    "    spacy_db[datei] = protokoll"
   ],
   "metadata": {
    "collapsed": false,
    "pycharm": {
     "name": "#%%\n",
     "is_executing": false
    }
   }
  },
  {
   "cell_type": "code",
   "execution_count": 31,
   "outputs": [],
   "source": [
    "def collect_classifiers_sentiws(sourcefile):\n",
    "    with open(sourcefile) as csv_file:\n",
    "        classifiers = read_csv(csv_file, sep=\"\\t\", header=None, names=[\"lemma\", \"wert\", \"formen\"])\n",
    "        classifiers[\"formen\"] = classifiers[\"formen\"].astype(str)\n",
    "        classifiers[\"formen\"] = classifiers[\"formen\"].apply(lambda x: x.split(\",\"))\n",
    "        classifiers[[\"lemma\",\"pos\"]] = classifiers[\"lemma\"].str.split(\"|\",expand=True)\n",
    "        classifiers[\"lemma\"] = classifiers[\"lemma\"].astype(str)\n",
    "        for formen, lemma in zip(classifiers.formen, classifiers.lemma):\n",
    "            formen = formen.append(lemma)\n",
    "    return classifiers"
   ],
   "metadata": {
    "collapsed": false,
    "pycharm": {
     "name": "#%%\n",
     "is_executing": false
    }
   }
  },
  {
   "cell_type": "code",
   "execution_count": 32,
   "outputs": [],
   "source": [
    "classifiers_neg = collect_classifiers_sentiws(\"SentiWS/SentiWS_v2.0_Negative.txt\")\n",
    "classifiers_pos = collect_classifiers_sentiws(\"SentiWS/SentiWS_v2.0_Positive.txt\")"
   ],
   "metadata": {
    "collapsed": false,
    "pycharm": {
     "name": "#%%\n",
     "is_executing": false
    }
   }
  },
  {
   "cell_type": "code",
   "execution_count": 66,
   "outputs": [],
   "source": [
    "def collect_classifiers_gpc(sourcefile):\n",
    "    with open(sourcefile) as csv_file:\n",
    "        classifiers = read_csv(csv_file, sep=\"\\t\", header=None, names=[\"form\",\"lemma\",\"pos\",\"polaritaet\",\"probabilitaet\",\"whatever\"])\n",
    "        classifiers = classifiers.drop(labels=[\"probabilitaet\",\"whatever\"], axis=1)\n",
    "    return classifiers\n",
    "        "
   ],
   "metadata": {
    "collapsed": false,
    "pycharm": {
     "name": "#%%\n",
     "is_executing": false
    }
   }
  },
  {
   "cell_type": "code",
   "execution_count": 67,
   "outputs": [],
   "source": [
    "classifiers_neg_gpc = collect_classifiers_gpc(\"gpc/GermanPolarityClues-Negative-21042012.tsv\")\n",
    "classifiers_pos_gpc = collect_classifiers_gpc(\"gpc/GermanPolarityClues-Positive-21042012.tsv\")\n"
   ],
   "metadata": {
    "collapsed": false,
    "pycharm": {
     "name": "#%%\n",
     "is_executing": false
    }
   }
  },
  {
   "cell_type": "code",
   "execution_count": 95,
   "outputs": [],
   "source": [
    "for f, protokoll in spacy_db.items():\n",
    "    for rede in protokoll:\n",
    "        rede.user_data[\"entitaeten\"] = [x.text for x in rede.ents]\n",
    "        rede.user_data[\"entitaeten\"] = [x for x in rede.user_data[\"entitaeten\"] if not x == \"||\"]          \n",
    "        "
   ],
   "metadata": {
    "collapsed": false,
    "pycharm": {
     "name": "#%%\n",
     "is_executing": false
    }
   }
  },
  {
   "cell_type": "code",
   "execution_count": 94,
   "outputs": [],
   "source": [],
   "metadata": {
    "collapsed": false,
    "pycharm": {
     "name": "#%%\n",
     "is_executing": false
    }
   }
  },
  {
   "cell_type": "code",
   "execution_count": null,
   "outputs": [],
   "source": [
    "'''\n",
    "Für die Analyse:\n",
    "GPC hat keine genauen Werte, nur \"negative\" und \"positive\".\n",
    "Deswegen wird GPC nur genutzt, um zu bestimmen ob ein Abschnitt negativ oder positiv ist\n",
    "SentiWS wird zusätzlich noch benutzt, um die Intensität zu messen.\n",
    "'''\n",
    "\n"
   ],
   "metadata": {
    "collapsed": false,
    "pycharm": {
     "name": "#%%\n"
    }
   }
  }
 ],
 "metadata": {
  "kernelspec": {
   "display_name": "Python 3",
   "language": "python",
   "name": "python3"
  },
  "language_info": {
   "codemirror_mode": {
    "name": "ipython",
    "version": 2
   },
   "file_extension": ".py",
   "mimetype": "text/x-python",
   "name": "python",
   "nbconvert_exporter": "python",
   "pygments_lexer": "ipython2",
   "version": "2.7.6"
  },
  "pycharm": {
   "stem_cell": {
    "cell_type": "raw",
    "source": [],
    "metadata": {
     "collapsed": false
    }
   }
  }
 },
 "nbformat": 4,
 "nbformat_minor": 0
}